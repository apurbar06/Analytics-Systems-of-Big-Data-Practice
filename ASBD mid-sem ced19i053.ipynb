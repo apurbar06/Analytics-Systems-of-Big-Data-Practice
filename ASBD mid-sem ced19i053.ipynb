{
  "nbformat": 4,
  "nbformat_minor": 0,
  "metadata": {
    "colab": {
      "provenance": []
    },
    "kernelspec": {
      "name": "python3",
      "display_name": "Python 3"
    },
    "language_info": {
      "name": "python"
    }
  },
  "cells": [
    {
      "cell_type": "markdown",
      "source": [
        "# Descriptive Analytics"
      ],
      "metadata": {
        "id": "BU3lTEIkkeHm"
      }
    },
    {
      "cell_type": "code",
      "execution_count": null,
      "metadata": {
        "id": "6JcQ9dU6j2IB"
      },
      "outputs": [],
      "source": [
        "# Here is an example Python code snippet that loads the dataset and creates a scatter plot of the quantity sold versus the price.\n",
        "\n",
        "import pandas as pd\n",
        "import numpy as np\n",
        "import matplotlib.pyplot as plt\n",
        "import seaborn as sns\n",
        "import plotly.express as px\n",
        "from scipy import stats\n",
        "import plotly.graph_objects as go\n",
        "from math import pi\n",
        "import squarify\n",
        "from sklearn.preprocessing import MinMaxScaler\n",
        "from sklearn.preprocessing import LabelEncoder\n",
        "from prettytable import PrettyTable\n",
        "\n",
        "# Load the dataset\n",
        "df = pd.read_excel('online_retail_II.xlsx')\n",
        "\n"
      ]
    },
    {
      "cell_type": "code",
      "source": [
        "# Dimension of the dataset\n",
        "df.shape"
      ],
      "metadata": {
        "colab": {
          "base_uri": "https://localhost:8080/"
        },
        "id": "pH_DzzdTYkxG",
        "outputId": "0d4bc144-6e8f-4249-9c5b-3d87aabf2c31"
      },
      "execution_count": null,
      "outputs": [
        {
          "output_type": "execute_result",
          "data": {
            "text/plain": [
              "(525461, 9)"
            ]
          },
          "metadata": {},
          "execution_count": 45
        }
      ]
    },
    {
      "cell_type": "code",
      "source": [
        "# Most frequently occurring value under every attribute.\n",
        "t = PrettyTable(['Attribute', 'Most freq', 'Frequency'])\n",
        "\n",
        "for each in df:\n",
        "    t.add_row([each, df[each].value_counts().index[0], df[each].value_counts().iloc[0]])\n",
        "\n",
        "print(t)"
      ],
      "metadata": {
        "colab": {
          "base_uri": "https://localhost:8080/"
        },
        "id": "iEx0wal1Ypqe",
        "outputId": "f7143216-d7a0-48eb-e669-59082fe1ef94"
      },
      "execution_count": null,
      "outputs": [
        {
          "output_type": "stream",
          "name": "stdout",
          "text": [
            "+---------------------+------------------------------------+-----------+\n",
            "|      Attribute      |             Most freq              | Frequency |\n",
            "+---------------------+------------------------------------+-----------+\n",
            "|       Invoice       |               537434               |    675    |\n",
            "|      StockCode      |               85123A               |    3516   |\n",
            "|     Description     | WHITE HANGING HEART T-LIGHT HOLDER |    3549   |\n",
            "|       Quantity      |                 1                  |   146118  |\n",
            "|     InvoiceDate     |        2010-12-06 16:57:00         |    675    |\n",
            "|        Price        |                1.25                |   53932   |\n",
            "|     Customer ID     |              14911.0               |    5710   |\n",
            "|       Country       |           United Kingdom           |   485852  |\n",
            "| Quantity_normalized |         0.3339245965498052         |   146118  |\n",
            "+---------------------+------------------------------------+-----------+\n"
          ]
        }
      ]
    },
    {
      "cell_type": "code",
      "source": [
        "# Datatype of every attribute\n",
        "print(df.dtypes)"
      ],
      "metadata": {
        "colab": {
          "base_uri": "https://localhost:8080/"
        },
        "id": "tygUjRQ6Y_79",
        "outputId": "6b46e15a-341c-4734-db60-d85e7a4d0786"
      },
      "execution_count": null,
      "outputs": [
        {
          "output_type": "stream",
          "name": "stdout",
          "text": [
            "Invoice                        object\n",
            "StockCode                      object\n",
            "Description                    object\n",
            "Quantity                        int64\n",
            "InvoiceDate            datetime64[ns]\n",
            "Price                         float64\n",
            "Customer ID                   float64\n",
            "Country                        object\n",
            "Quantity_normalized           float64\n",
            "dtype: object\n"
          ]
        }
      ]
    },
    {
      "cell_type": "code",
      "source": [
        "'''\n",
        "  ● Count\n",
        "  ● Mean\n",
        "  ● Standard Deviation\n",
        "  ● Minimum Value\n",
        "  ● Maximum value\n",
        "  ● 25% \n",
        "  ● Median i.e. 50%\n",
        "  ● 75%\n",
        "'''\n",
        "\n",
        "df.describe()"
      ],
      "metadata": {
        "colab": {
          "base_uri": "https://localhost:8080/",
          "height": 300
        },
        "id": "N4_IkydnZE2T",
        "outputId": "bc82605d-73a2-43fe-99f9-fab2ee2b3547"
      },
      "execution_count": null,
      "outputs": [
        {
          "output_type": "execute_result",
          "data": {
            "text/plain": [
              "            Quantity          Price    Customer ID  Quantity_normalized\n",
              "count  525461.000000  525461.000000  417534.000000        525461.000000\n",
              "mean       10.337667       4.688834   15360.645478             0.334249\n",
              "std       107.424110     146.126914    1680.811316             0.003736\n",
              "min     -9600.000000  -53594.360000   12346.000000             0.000000\n",
              "25%         1.000000       1.250000   13983.000000             0.333925\n",
              "50%         3.000000       2.100000   15311.000000             0.333994\n",
              "75%        10.000000       4.210000   16799.000000             0.334238\n",
              "max     19152.000000   25111.090000   18287.000000             1.000000"
            ],
            "text/html": [
              "\n",
              "  <div id=\"df-a39a2eaa-5079-4f29-b958-44fb02abc8ae\">\n",
              "    <div class=\"colab-df-container\">\n",
              "      <div>\n",
              "<style scoped>\n",
              "    .dataframe tbody tr th:only-of-type {\n",
              "        vertical-align: middle;\n",
              "    }\n",
              "\n",
              "    .dataframe tbody tr th {\n",
              "        vertical-align: top;\n",
              "    }\n",
              "\n",
              "    .dataframe thead th {\n",
              "        text-align: right;\n",
              "    }\n",
              "</style>\n",
              "<table border=\"1\" class=\"dataframe\">\n",
              "  <thead>\n",
              "    <tr style=\"text-align: right;\">\n",
              "      <th></th>\n",
              "      <th>Quantity</th>\n",
              "      <th>Price</th>\n",
              "      <th>Customer ID</th>\n",
              "      <th>Quantity_normalized</th>\n",
              "    </tr>\n",
              "  </thead>\n",
              "  <tbody>\n",
              "    <tr>\n",
              "      <th>count</th>\n",
              "      <td>525461.000000</td>\n",
              "      <td>525461.000000</td>\n",
              "      <td>417534.000000</td>\n",
              "      <td>525461.000000</td>\n",
              "    </tr>\n",
              "    <tr>\n",
              "      <th>mean</th>\n",
              "      <td>10.337667</td>\n",
              "      <td>4.688834</td>\n",
              "      <td>15360.645478</td>\n",
              "      <td>0.334249</td>\n",
              "    </tr>\n",
              "    <tr>\n",
              "      <th>std</th>\n",
              "      <td>107.424110</td>\n",
              "      <td>146.126914</td>\n",
              "      <td>1680.811316</td>\n",
              "      <td>0.003736</td>\n",
              "    </tr>\n",
              "    <tr>\n",
              "      <th>min</th>\n",
              "      <td>-9600.000000</td>\n",
              "      <td>-53594.360000</td>\n",
              "      <td>12346.000000</td>\n",
              "      <td>0.000000</td>\n",
              "    </tr>\n",
              "    <tr>\n",
              "      <th>25%</th>\n",
              "      <td>1.000000</td>\n",
              "      <td>1.250000</td>\n",
              "      <td>13983.000000</td>\n",
              "      <td>0.333925</td>\n",
              "    </tr>\n",
              "    <tr>\n",
              "      <th>50%</th>\n",
              "      <td>3.000000</td>\n",
              "      <td>2.100000</td>\n",
              "      <td>15311.000000</td>\n",
              "      <td>0.333994</td>\n",
              "    </tr>\n",
              "    <tr>\n",
              "      <th>75%</th>\n",
              "      <td>10.000000</td>\n",
              "      <td>4.210000</td>\n",
              "      <td>16799.000000</td>\n",
              "      <td>0.334238</td>\n",
              "    </tr>\n",
              "    <tr>\n",
              "      <th>max</th>\n",
              "      <td>19152.000000</td>\n",
              "      <td>25111.090000</td>\n",
              "      <td>18287.000000</td>\n",
              "      <td>1.000000</td>\n",
              "    </tr>\n",
              "  </tbody>\n",
              "</table>\n",
              "</div>\n",
              "      <button class=\"colab-df-convert\" onclick=\"convertToInteractive('df-a39a2eaa-5079-4f29-b958-44fb02abc8ae')\"\n",
              "              title=\"Convert this dataframe to an interactive table.\"\n",
              "              style=\"display:none;\">\n",
              "        \n",
              "  <svg xmlns=\"http://www.w3.org/2000/svg\" height=\"24px\"viewBox=\"0 0 24 24\"\n",
              "       width=\"24px\">\n",
              "    <path d=\"M0 0h24v24H0V0z\" fill=\"none\"/>\n",
              "    <path d=\"M18.56 5.44l.94 2.06.94-2.06 2.06-.94-2.06-.94-.94-2.06-.94 2.06-2.06.94zm-11 1L8.5 8.5l.94-2.06 2.06-.94-2.06-.94L8.5 2.5l-.94 2.06-2.06.94zm10 10l.94 2.06.94-2.06 2.06-.94-2.06-.94-.94-2.06-.94 2.06-2.06.94z\"/><path d=\"M17.41 7.96l-1.37-1.37c-.4-.4-.92-.59-1.43-.59-.52 0-1.04.2-1.43.59L10.3 9.45l-7.72 7.72c-.78.78-.78 2.05 0 2.83L4 21.41c.39.39.9.59 1.41.59.51 0 1.02-.2 1.41-.59l7.78-7.78 2.81-2.81c.8-.78.8-2.07 0-2.86zM5.41 20L4 18.59l7.72-7.72 1.47 1.35L5.41 20z\"/>\n",
              "  </svg>\n",
              "      </button>\n",
              "      \n",
              "  <style>\n",
              "    .colab-df-container {\n",
              "      display:flex;\n",
              "      flex-wrap:wrap;\n",
              "      gap: 12px;\n",
              "    }\n",
              "\n",
              "    .colab-df-convert {\n",
              "      background-color: #E8F0FE;\n",
              "      border: none;\n",
              "      border-radius: 50%;\n",
              "      cursor: pointer;\n",
              "      display: none;\n",
              "      fill: #1967D2;\n",
              "      height: 32px;\n",
              "      padding: 0 0 0 0;\n",
              "      width: 32px;\n",
              "    }\n",
              "\n",
              "    .colab-df-convert:hover {\n",
              "      background-color: #E2EBFA;\n",
              "      box-shadow: 0px 1px 2px rgba(60, 64, 67, 0.3), 0px 1px 3px 1px rgba(60, 64, 67, 0.15);\n",
              "      fill: #174EA6;\n",
              "    }\n",
              "\n",
              "    [theme=dark] .colab-df-convert {\n",
              "      background-color: #3B4455;\n",
              "      fill: #D2E3FC;\n",
              "    }\n",
              "\n",
              "    [theme=dark] .colab-df-convert:hover {\n",
              "      background-color: #434B5C;\n",
              "      box-shadow: 0px 1px 3px 1px rgba(0, 0, 0, 0.15);\n",
              "      filter: drop-shadow(0px 1px 2px rgba(0, 0, 0, 0.3));\n",
              "      fill: #FFFFFF;\n",
              "    }\n",
              "  </style>\n",
              "\n",
              "      <script>\n",
              "        const buttonEl =\n",
              "          document.querySelector('#df-a39a2eaa-5079-4f29-b958-44fb02abc8ae button.colab-df-convert');\n",
              "        buttonEl.style.display =\n",
              "          google.colab.kernel.accessAllowed ? 'block' : 'none';\n",
              "\n",
              "        async function convertToInteractive(key) {\n",
              "          const element = document.querySelector('#df-a39a2eaa-5079-4f29-b958-44fb02abc8ae');\n",
              "          const dataTable =\n",
              "            await google.colab.kernel.invokeFunction('convertToInteractive',\n",
              "                                                     [key], {});\n",
              "          if (!dataTable) return;\n",
              "\n",
              "          const docLinkHtml = 'Like what you see? Visit the ' +\n",
              "            '<a target=\"_blank\" href=https://colab.research.google.com/notebooks/data_table.ipynb>data table notebook</a>'\n",
              "            + ' to learn more about interactive tables.';\n",
              "          element.innerHTML = '';\n",
              "          dataTable['output_type'] = 'display_data';\n",
              "          await google.colab.output.renderOutput(dataTable, element);\n",
              "          const docLink = document.createElement('div');\n",
              "          docLink.innerHTML = docLinkHtml;\n",
              "          element.appendChild(docLink);\n",
              "        }\n",
              "      </script>\n",
              "    </div>\n",
              "  </div>\n",
              "  "
            ]
          },
          "metadata": {},
          "execution_count": 49
        }
      ]
    },
    {
      "cell_type": "code",
      "source": [
        "# Correlation matrix\n",
        "df.corr()"
      ],
      "metadata": {
        "colab": {
          "base_uri": "https://localhost:8080/",
          "height": 175
        },
        "id": "RuNIPjdyZUNd",
        "outputId": "206c0f7a-8c32-4478-a2cd-a88f7d95ff6d"
      },
      "execution_count": null,
      "outputs": [
        {
          "output_type": "execute_result",
          "data": {
            "text/plain": [
              "                     Quantity     Price  Customer ID  Quantity_normalized\n",
              "Quantity             1.000000 -0.001931    -0.011577             1.000000\n",
              "Price               -0.001931  1.000000    -0.003266            -0.001931\n",
              "Customer ID         -0.011577 -0.003266     1.000000            -0.011577\n",
              "Quantity_normalized  1.000000 -0.001931    -0.011577             1.000000"
            ],
            "text/html": [
              "\n",
              "  <div id=\"df-dd595787-9d85-48f2-ad71-e5460263edfb\">\n",
              "    <div class=\"colab-df-container\">\n",
              "      <div>\n",
              "<style scoped>\n",
              "    .dataframe tbody tr th:only-of-type {\n",
              "        vertical-align: middle;\n",
              "    }\n",
              "\n",
              "    .dataframe tbody tr th {\n",
              "        vertical-align: top;\n",
              "    }\n",
              "\n",
              "    .dataframe thead th {\n",
              "        text-align: right;\n",
              "    }\n",
              "</style>\n",
              "<table border=\"1\" class=\"dataframe\">\n",
              "  <thead>\n",
              "    <tr style=\"text-align: right;\">\n",
              "      <th></th>\n",
              "      <th>Quantity</th>\n",
              "      <th>Price</th>\n",
              "      <th>Customer ID</th>\n",
              "      <th>Quantity_normalized</th>\n",
              "    </tr>\n",
              "  </thead>\n",
              "  <tbody>\n",
              "    <tr>\n",
              "      <th>Quantity</th>\n",
              "      <td>1.000000</td>\n",
              "      <td>-0.001931</td>\n",
              "      <td>-0.011577</td>\n",
              "      <td>1.000000</td>\n",
              "    </tr>\n",
              "    <tr>\n",
              "      <th>Price</th>\n",
              "      <td>-0.001931</td>\n",
              "      <td>1.000000</td>\n",
              "      <td>-0.003266</td>\n",
              "      <td>-0.001931</td>\n",
              "    </tr>\n",
              "    <tr>\n",
              "      <th>Customer ID</th>\n",
              "      <td>-0.011577</td>\n",
              "      <td>-0.003266</td>\n",
              "      <td>1.000000</td>\n",
              "      <td>-0.011577</td>\n",
              "    </tr>\n",
              "    <tr>\n",
              "      <th>Quantity_normalized</th>\n",
              "      <td>1.000000</td>\n",
              "      <td>-0.001931</td>\n",
              "      <td>-0.011577</td>\n",
              "      <td>1.000000</td>\n",
              "    </tr>\n",
              "  </tbody>\n",
              "</table>\n",
              "</div>\n",
              "      <button class=\"colab-df-convert\" onclick=\"convertToInteractive('df-dd595787-9d85-48f2-ad71-e5460263edfb')\"\n",
              "              title=\"Convert this dataframe to an interactive table.\"\n",
              "              style=\"display:none;\">\n",
              "        \n",
              "  <svg xmlns=\"http://www.w3.org/2000/svg\" height=\"24px\"viewBox=\"0 0 24 24\"\n",
              "       width=\"24px\">\n",
              "    <path d=\"M0 0h24v24H0V0z\" fill=\"none\"/>\n",
              "    <path d=\"M18.56 5.44l.94 2.06.94-2.06 2.06-.94-2.06-.94-.94-2.06-.94 2.06-2.06.94zm-11 1L8.5 8.5l.94-2.06 2.06-.94-2.06-.94L8.5 2.5l-.94 2.06-2.06.94zm10 10l.94 2.06.94-2.06 2.06-.94-2.06-.94-.94-2.06-.94 2.06-2.06.94z\"/><path d=\"M17.41 7.96l-1.37-1.37c-.4-.4-.92-.59-1.43-.59-.52 0-1.04.2-1.43.59L10.3 9.45l-7.72 7.72c-.78.78-.78 2.05 0 2.83L4 21.41c.39.39.9.59 1.41.59.51 0 1.02-.2 1.41-.59l7.78-7.78 2.81-2.81c.8-.78.8-2.07 0-2.86zM5.41 20L4 18.59l7.72-7.72 1.47 1.35L5.41 20z\"/>\n",
              "  </svg>\n",
              "      </button>\n",
              "      \n",
              "  <style>\n",
              "    .colab-df-container {\n",
              "      display:flex;\n",
              "      flex-wrap:wrap;\n",
              "      gap: 12px;\n",
              "    }\n",
              "\n",
              "    .colab-df-convert {\n",
              "      background-color: #E8F0FE;\n",
              "      border: none;\n",
              "      border-radius: 50%;\n",
              "      cursor: pointer;\n",
              "      display: none;\n",
              "      fill: #1967D2;\n",
              "      height: 32px;\n",
              "      padding: 0 0 0 0;\n",
              "      width: 32px;\n",
              "    }\n",
              "\n",
              "    .colab-df-convert:hover {\n",
              "      background-color: #E2EBFA;\n",
              "      box-shadow: 0px 1px 2px rgba(60, 64, 67, 0.3), 0px 1px 3px 1px rgba(60, 64, 67, 0.15);\n",
              "      fill: #174EA6;\n",
              "    }\n",
              "\n",
              "    [theme=dark] .colab-df-convert {\n",
              "      background-color: #3B4455;\n",
              "      fill: #D2E3FC;\n",
              "    }\n",
              "\n",
              "    [theme=dark] .colab-df-convert:hover {\n",
              "      background-color: #434B5C;\n",
              "      box-shadow: 0px 1px 3px 1px rgba(0, 0, 0, 0.15);\n",
              "      filter: drop-shadow(0px 1px 2px rgba(0, 0, 0, 0.3));\n",
              "      fill: #FFFFFF;\n",
              "    }\n",
              "  </style>\n",
              "\n",
              "      <script>\n",
              "        const buttonEl =\n",
              "          document.querySelector('#df-dd595787-9d85-48f2-ad71-e5460263edfb button.colab-df-convert');\n",
              "        buttonEl.style.display =\n",
              "          google.colab.kernel.accessAllowed ? 'block' : 'none';\n",
              "\n",
              "        async function convertToInteractive(key) {\n",
              "          const element = document.querySelector('#df-dd595787-9d85-48f2-ad71-e5460263edfb');\n",
              "          const dataTable =\n",
              "            await google.colab.kernel.invokeFunction('convertToInteractive',\n",
              "                                                     [key], {});\n",
              "          if (!dataTable) return;\n",
              "\n",
              "          const docLinkHtml = 'Like what you see? Visit the ' +\n",
              "            '<a target=\"_blank\" href=https://colab.research.google.com/notebooks/data_table.ipynb>data table notebook</a>'\n",
              "            + ' to learn more about interactive tables.';\n",
              "          element.innerHTML = '';\n",
              "          dataTable['output_type'] = 'display_data';\n",
              "          await google.colab.output.renderOutput(dataTable, element);\n",
              "          const docLink = document.createElement('div');\n",
              "          docLink.innerHTML = docLinkHtml;\n",
              "          element.appendChild(docLink);\n",
              "        }\n",
              "      </script>\n",
              "    </div>\n",
              "  </div>\n",
              "  "
            ]
          },
          "metadata": {},
          "execution_count": 51
        }
      ]
    },
    {
      "cell_type": "code",
      "source": [
        "# Skewness of every attribute.\n",
        "df.skew()"
      ],
      "metadata": {
        "colab": {
          "base_uri": "https://localhost:8080/"
        },
        "id": "6oapVLKGZZ3t",
        "outputId": "15c7461a-82db-4fa8-80cd-2222ebff554e"
      },
      "execution_count": null,
      "outputs": [
        {
          "output_type": "stream",
          "name": "stderr",
          "text": [
            "<ipython-input-52-ca2238cbe69f>:2: FutureWarning:\n",
            "\n",
            "Dropping of nuisance columns in DataFrame reductions (with 'numeric_only=None') is deprecated; in a future version this will raise TypeError.  Select only valid columns before calling the reduction.\n",
            "\n"
          ]
        },
        {
          "output_type": "execute_result",
          "data": {
            "text/plain": [
              "Quantity                36.044617\n",
              "Price                 -140.768446\n",
              "Customer ID             -0.016524\n",
              "Quantity_normalized     36.044617\n",
              "dtype: float64"
            ]
          },
          "metadata": {},
          "execution_count": 52
        }
      ]
    },
    {
      "cell_type": "code",
      "source": [
        "# Calculate the statistical measures for different attributes\n",
        "# calculate statistical measures for Quantity attribute\n",
        "mean_quantity = np.mean(df['Quantity'])\n",
        "median_quantity = np.median(df['Quantity'])\n",
        "mode_quantity = stats.mode(df['Quantity'])[0][0]\n",
        "std_quantity = np.std(df['Quantity'])\n",
        "range_quantity = np.max(df['Quantity']) - np.min(df['Quantity'])\n",
        "q1_quantity = np.percentile(df['Quantity'], 25)\n",
        "q3_quantity = np.percentile(df['Quantity'], 75)\n",
        "iqr_quantity = q3_quantity - q1_quantity\n",
        "\n",
        "# calculate statistical measures for Price attribute\n",
        "mean_price = np.mean(df['Price'])\n",
        "median_price = np.median(df['Price'])\n",
        "mode_price = stats.mode(df['Price'])[0][0]\n",
        "std_price = np.std(df['Price'])\n",
        "range_price = np.max(df['Price']) - np.min(df['Price'])\n",
        "q1_price = np.percentile(df['Price'], 25)\n",
        "q3_price = np.percentile(df['Price'], 75)\n",
        "iqr_price = q3_price - q1_price\n",
        "\n",
        "# calculate statistical measures for Customer ID attribute\n",
        "mean_customer_id = np.mean(df['Customer ID'])\n",
        "median_customer_id = np.median(df['Customer ID'])\n",
        "mode_customer_id = stats.mode(df['Customer ID'])[0][0]\n",
        "std_customer_id = np.std(df['Customer ID'])\n",
        "range_customer_id = np.max(df['Customer ID']) - np.min(df['Customer ID'])\n",
        "q1_customer_id = np.percentile(df['Customer ID'], 25)\n",
        "q3_customer_id = np.percentile(df['Customer ID'], 75)\n",
        "iqr_customer_id = q3_customer_id - q1_customer_id\n",
        "\n",
        "# calculate statistical measures for Country attribute\n",
        "country_mode = df[\"Country\"].mode().values[0]\n",
        "country_value_counts = df[\"Country\"].value_counts()\n",
        "\n",
        "# Print the results\n",
        "print('Quantity: Mean =', mean_quantity, ', Median =', median_quantity, ', Mode =', mode_quantity, ', Std =', std_quantity, ', Range =', range_quantity, ', Q1 =', q1_quantity, ', Q3 =', q3_quantity, ', IQR =', iqr_quantity)\n",
        "print('Price: Mean =', mean_price, ', Median =', median_price, ', Mode =', mode_price, ', Std =', std_price, ', Range =', range_price, ', Q1 =', q1_price, ', Q3 =', q3_price, ', IQR =', iqr_price)\n",
        "print('Customer ID: Mean =', mean_customer_id, ', Median =', median_customer_id, ', Mode =', mode_customer_id, ', Std =', std_customer_id, ', Range =', range_customer_id, ', Q1 =', q1_customer_id, ', Q3 =', q3_customer_id, ', IQR =', iqr_customer_id)\n",
        "print('Country: Mode =', country_mode, ', Number of countries =', len(country_value_counts))"
      ],
      "metadata": {
        "colab": {
          "base_uri": "https://localhost:8080/"
        },
        "id": "nFIJ3yhgKld7",
        "outputId": "8a61d8f9-fab7-4073-b81f-ccc2d3d00ee2"
      },
      "execution_count": null,
      "outputs": [
        {
          "output_type": "stream",
          "name": "stdout",
          "text": [
            "Quantity: Mean = 10.337667305470815 , Median = 3.0 , Mode = 1 , Std = 107.42400804983068 , Range = 28752 , Q1 = 1.0 , Q3 = 10.0 , IQR = 9.0\n",
            "Price: Mean = 4.688834478676819 , Median = 2.1 , Mode = 1.25 , Std = 146.12677490646684 , Range = 78705.45 , Q1 = 1.25 , Q3 = 4.21 , IQR = 2.96\n",
            "Customer ID: Mean = 15360.645477973052 , Median = nan , Mode = nan , Std = 1680.809302960741 , Range = 5941.0 , Q1 = nan , Q3 = nan , IQR = nan\n",
            "Country: Mode = United Kingdom , Number of countries = 40\n"
          ]
        }
      ]
    },
    {
      "cell_type": "markdown",
      "source": [
        "Based on the statistical measures calculated for the different attributes of the dataset, we can make the following inferences:\n",
        "\n",
        "* Quantity: The mean quantity ordered is 10.33 with a median of 3, indicating a right-skewed distribution with a few large orders driving up the mean. The mode of 1 suggests that small orders are most common.\n",
        "* Price: The mean unit price is 4.6 with a median of 2.1, indicating a right-skewed distribution with a few high-priced items driving up the mean. The mode of 1.25 suggests that items priced around that amount are most common.\n",
        "* CustomerID: The mode and median customer IDs are both NaN, indicating missing values in the dataset.\n",
        "* Country: The mode of the country attribute is \"United Kingdom\", indicating that the majority of orders in the dataset were shipped to the UK.\n",
        "\n",
        "These statistical measures provide a high-level overview of the distribution of different attributes in the dataset and can be used to gain insights into customer behavior and purchasing patterns."
      ],
      "metadata": {
        "id": "KvuXeYzLLrDV"
      }
    },
    {
      "cell_type": "code",
      "source": [
        "# Create a violin plot of Quantity\n",
        "plt.figure(figsize=(8,6))\n",
        "sns.violinplot(\"Quantity\", data=df)\n",
        "plt.title(\"Distribution of Quantity\")\n",
        "plt.show()"
      ],
      "metadata": {
        "colab": {
          "base_uri": "https://localhost:8080/",
          "height": 459
        },
        "id": "JDS5zr9sw7p9",
        "outputId": "33ab2248-6600-4e93-ee30-5e2cded22014"
      },
      "execution_count": null,
      "outputs": [
        {
          "output_type": "stream",
          "name": "stderr",
          "text": [
            "/usr/local/lib/python3.8/dist-packages/seaborn/_decorators.py:36: FutureWarning: Pass the following variable as a keyword arg: x. From version 0.12, the only valid positional argument will be `data`, and passing other arguments without an explicit keyword will result in an error or misinterpretation.\n",
            "  warnings.warn(\n"
          ]
        },
        {
          "output_type": "display_data",
          "data": {
            "text/plain": [
              "<Figure size 576x432 with 1 Axes>"
            ],
            "image/png": "[encoded data removed]"
          },
          "metadata": {
            "needs_background": "light"
          }
        }
      ]
    },
    {
      "cell_type": "markdown",
      "source": [
        "From the violin plot, we can make the following inferences:\n",
        "\n",
        "* The distribution of quantity in the dataset is strongly skewed to the right, with the majority of transactions having low quantities and a long tail of transactions with very high quantities.\n",
        "\n",
        "* There are a few transactions with very large negative quantities, which is unusual and could indicate errors or unusual circumstances.\n",
        "\n",
        "* The median quantity in the dataset is close to zero, indicating that the majority of transactions involve small quantities of items.\n",
        "\n",
        "Overall, the violin plot provides us with a useful visualization of the distribution of quantity in the Online Retail II dataset, and can help us to identify any patterns or outliers in the data. "
      ],
      "metadata": {
        "id": "EiHVxZcDxOM3"
      }
    },
    {
      "cell_type": "code",
      "source": [
        "# Create a scatter plot of Price vs Quantity\n",
        "plt.figure(figsize=(8,6))\n",
        "plt.scatter(x=\"Price\", y=\"Quantity\", data=df)\n",
        "plt.title(\"Price vs Quantity\")\n",
        "plt.xlabel(\"Price\")\n",
        "plt.ylabel(\"Quantity\")\n",
        "plt.show()"
      ],
      "metadata": {
        "colab": {
          "base_uri": "https://localhost:8080/",
          "height": 404
        },
        "id": "EU--_KX6yzyO",
        "outputId": "f1097949-3288-4ba3-cfde-1963a044fade"
      },
      "execution_count": null,
      "outputs": [
        {
          "output_type": "display_data",
          "data": {
            "text/plain": [
              "<Figure size 576x432 with 1 Axes>"
            ],
            "image/png": "[encoded data removed]"
          },
          "metadata": {
            "needs_background": "light"
          }
        }
      ]
    },
    {
      "cell_type": "markdown",
      "source": [
        "From the scatter plot, we can make the following inferences:\n",
        "\n",
        "* There is a weak negative correlation between unit price and quantity, meaning that transactions with higher unit prices tend to involve smaller quantities of items.\n",
        "\n",
        "* There are also a few transactions with very large negative quantities and low unit prices, which is unusual and could indicate errors or unusual circumstances.\n",
        "\n",
        "Overall, the scatter plot provides us with a useful visualization of the relationship between unit price and quantity in the Online Retail II dataset, and can help us to identify any patterns or outliers in the data."
      ],
      "metadata": {
        "id": "2Y1vdP16y0xL"
      }
    },
    {
      "cell_type": "code",
      "source": [
        "# Create a box plot of Quantity\n",
        "plt.figure(figsize=(8,6))\n",
        "sns.boxplot(y=\"Quantity\", data=df)\n",
        "plt.title(\"Box Plot of Quantity\")\n",
        "plt.ylabel(\"Quantity\")\n",
        "plt.text(0.8, 0.95, f\"Min: {df['Quantity'].min():.2f}\\nQ1: {df['Quantity'].quantile(0.25):.2f}\\nMedian: {df['Quantity'].median():.2f}\\nQ3: {df['Quantity'].quantile(0.75):.2f}\\nMax: {df['Quantity'].max():.2f}\", \n",
        "         transform=plt.gca().transAxes, \n",
        "         bbox=dict(facecolor='white', alpha=0.8))\n",
        "plt.show()"
      ],
      "metadata": {
        "colab": {
          "base_uri": "https://localhost:8080/",
          "height": 399
        },
        "id": "cYYt6Ix71O1o",
        "outputId": "eb6951de-c4ed-48b9-a05b-35135801e768"
      },
      "execution_count": null,
      "outputs": [
        {
          "output_type": "display_data",
          "data": {
            "text/plain": [
              "<Figure size 576x432 with 1 Axes>"
            ],
            "image/png": "[encoded data removed]"
          },
          "metadata": {
            "needs_background": "light"
          }
        }
      ]
    },
    {
      "cell_type": "markdown",
      "source": [
        "From the box plot and the 5-number summary, we can make the following inferences:\n",
        "\n",
        "* The median quantity is around 3, indicating that most transactions involve a relatively small number of items.\n",
        "\n",
        "* The first quartile (Q1) is approximately 1.0 and the third quartile (Q3) is approximately 10.0, indicating that the majority of transactions involve quantities between approximately 1 and 10.\n",
        "\n",
        "* The minimum value is -9600 and the maximum value is 19152, indicating that there are some transactions with very high or very low quantities.\n",
        "\n",
        "* There are a number of outliers beyond the whiskers, indicating that there are some transactions with extremely high or low quantities.\n",
        "\n",
        "Overall, the box plot provides us with a useful visualization of the distribution of the \"Quantity\" attribute in the Online Retail II dataset, and the 5-number summary provides additional information about the distribution and variability of the data."
      ],
      "metadata": {
        "id": "_BL2ihWj2rMv"
      }
    },
    {
      "cell_type": "code",
      "source": [
        "# Create a violin plot of Price\n",
        "plt.figure(figsize=(8,6))\n",
        "sns.violinplot(x=\"Price\", data=df)\n",
        "plt.title(\"Violin Plot of Price\")\n",
        "plt.ylabel(\"Price\")\n",
        "plt.text(0.8, 0.95, f\"Median Price: {df['Price'].median():.2f}\",\n",
        "         transform=plt.gca().transAxes, \n",
        "         bbox=dict(facecolor='white', alpha=0.8))\n",
        "plt.show()"
      ],
      "metadata": {
        "colab": {
          "base_uri": "https://localhost:8080/",
          "height": 404
        },
        "id": "TtEbg0Pj3bjJ",
        "outputId": "b00265a4-caf2-4d1f-b42a-e1994ade400b"
      },
      "execution_count": null,
      "outputs": [
        {
          "output_type": "display_data",
          "data": {
            "text/plain": [
              "<Figure size 576x432 with 1 Axes>"
            ],
            "image/png": "[encoded data removed]"
          },
          "metadata": {
            "needs_background": "light"
          }
        }
      ]
    },
    {
      "cell_type": "markdown",
      "source": [
        "From the violin plot, we can make the following inferences:\n",
        "\n",
        "* The distribution of unit prices is heavily skewed to the left, with a long tail of high prices.\n",
        "\n",
        "* The median unit price is relatively low, around 2.10, indicating that most items are sold at relatively low prices.\n",
        "\n",
        "* There is a significant amount of variability in prices, with some items sold at much higher prices than others.\n",
        "\n",
        "* The violin plot provides more detail about the shape of the distribution than a simple box plot would, allowing us to see that the distribution is not symmetric and has a long tail to the left.\n",
        "\n",
        "* The addition of the median price as a numeric value on the plot provides a useful summary statistic that helps to highlight the central tendency of the distribution."
      ],
      "metadata": {
        "id": "U8UuoISj5leH"
      }
    },
    {
      "cell_type": "code",
      "source": [
        "# Create a histogram of Price\n",
        "plt.figure(figsize=(12,6))\n",
        "sns.histplot(data=df, x=\"Price\", bins=50)\n",
        "plt.title(\"Histogram of Price\")\n",
        "plt.xlabel(\"Price\")\n",
        "plt.ylabel(\"Count\")\n",
        "plt.show()"
      ],
      "metadata": {
        "colab": {
          "base_uri": "https://localhost:8080/",
          "height": 354
        },
        "id": "HhjmySZD8lrC",
        "outputId": "e3510442-3127-4a1c-b81a-1a9650bb6887"
      },
      "execution_count": null,
      "outputs": [
        {
          "output_type": "display_data",
          "data": {
            "text/plain": [
              "<Figure size 864x432 with 1 Axes>"
            ],
            "image/png": "[encoded data removed]"
          },
          "metadata": {
            "needs_background": "light"
          }
        }
      ]
    },
    {
      "cell_type": "markdown",
      "source": [
        "From the histogram plot, we can make the following inferences:\n",
        "\n",
        "* The majority of transactions involve unit prices near 0, with only a small number of transactions involving very high unit prices.\n",
        "\n",
        "* The distribution of unit prices is heavily skewed to the left, indicating that there are a large number of low-priced items but only a few high-priced items."
      ],
      "metadata": {
        "id": "Avqi03Fm8pUh"
      }
    },
    {
      "cell_type": "code",
      "source": [
        "# Calculate the interquartile range (IQR) of Price\n",
        "q1 = df['Price'].quantile(0.25)\n",
        "q3 = df['Price'].quantile(0.75)\n",
        "iqr = q3 - q1\n",
        "\n",
        "# Calculate the upper and lower bounds for outliers\n",
        "lower_bound = q1 - 1.5 * iqr\n",
        "upper_bound = q3 + 1.5 * iqr\n",
        "\n",
        "# Remove outliers from the dataset\n",
        "new_df = df[(df['Price'] > lower_bound) & (df['Price'] < upper_bound)]\n",
        "\n",
        "# Create a histogram of Price without outliers\n",
        "plt.figure(figsize=(12,6))\n",
        "sns.histplot(data=new_df, x=\"Price\", bins=50)\n",
        "plt.title(\"Histogram of Price without Outliers\")\n",
        "plt.xlabel(\"Price\")\n",
        "plt.ylabel(\"Count\")\n",
        "plt.show()"
      ],
      "metadata": {
        "colab": {
          "base_uri": "https://localhost:8080/",
          "height": 424
        },
        "id": "xxUjY-LW7dUt",
        "outputId": "67820f29-40b4-4953-dbfc-f146f6bca880"
      },
      "execution_count": null,
      "outputs": [
        {
          "output_type": "display_data",
          "data": {
            "text/plain": [
              "<Figure size 864x432 with 1 Axes>"
            ],
            "image/png": "[encoded data removed]"
          },
          "metadata": {
            "needs_background": "light"
          }
        }
      ]
    },
    {
      "cell_type": "markdown",
      "source": [
        "From the histogram plot, we can make the following inferences:\n",
        "\n",
        "* After removing outliers, the majority of transactions still involve unit prices below 10, but there is now a more even distribution of prices across the range.\n",
        "\n",
        "* The distribution of unit prices is still skewed to the right, but less so than in the original histogram plot.\n",
        "\n",
        "* By removing outliers, we have reduced the impact of extreme values on the overall distribution of the data, allowing us to better see the shape of the distribution and identify any patterns.\n",
        "\n",
        "* The histogram still allows us to easily adjust the number of bins to control the level of detail in the visualization."
      ],
      "metadata": {
        "id": "ZEOJ6sUi8eAq"
      }
    },
    {
      "cell_type": "code",
      "source": [
        "# Choose the \"Quantity\" attribute\n",
        "attribute = \"Quantity\"\n",
        "data = df[attribute]\n",
        "\n",
        "# Calculate the mean and standard deviation of the attribute\n",
        "mean = data.mean()\n",
        "std_dev = data.std()\n",
        "\n",
        "# Calculate the angle for the attribute\n",
        "angle = pi / 2 - (mean / max(data) * pi / 2)\n",
        "\n",
        "# Create the spider plot\n",
        "fig = plt.figure(figsize=(6, 6))\n",
        "ax = fig.add_subplot(111, polar=True)\n",
        "\n",
        "ax.set_ylim(0, 1)\n",
        "ax.set_theta_zero_location('N')\n",
        "ax.set_theta_direction(-1)\n",
        "\n",
        "theta = [angle, angle + pi]\n",
        "values = [1 - mean / max(data), 1 - (mean - std_dev) / max(data)]\n",
        "\n",
        "ax.plot(theta + [theta[0]], values + [values[0]], color='purple', linewidth=2, alpha=0.7)\n",
        "\n",
        "ax.fill(theta + [theta[0]], values + [values[0]], facecolor='purple', alpha=0.2)\n",
        "\n",
        "ax.set_xticklabels([attribute])\n",
        "ax.set_yticklabels([])\n",
        "\n",
        "plt.show()\n",
        "\n",
        "# Make inferences about the data\n",
        "print(\"Mean:\", mean)\n",
        "print(\"Standard Deviation:\", std_dev)"
      ],
      "metadata": {
        "colab": {
          "base_uri": "https://localhost:8080/",
          "height": 465
        },
        "id": "RbkuNAlNAMJd",
        "outputId": "9ec980b3-d7c8-4165-84e9-e6beafe413f1"
      },
      "execution_count": null,
      "outputs": [
        {
          "output_type": "stream",
          "name": "stderr",
          "text": [
            "<ipython-input-58-cf6faed289c0>:27: UserWarning: FixedFormatter should only be used together with FixedLocator\n",
            "  ax.set_xticklabels([attribute])\n"
          ]
        },
        {
          "output_type": "display_data",
          "data": {
            "text/plain": [
              "<Figure size 432x432 with 1 Axes>"
            ],
            "image/png": "[encoded data removed]"
          },
          "metadata": {
            "needs_background": "light"
          }
        },
        {
          "output_type": "stream",
          "name": "stdout",
          "text": [
            "Mean: 10.337667305470815\n",
            "Standard Deviation: 107.4241102687978\n"
          ]
        }
      ]
    },
    {
      "cell_type": "markdown",
      "source": [
        "From the histogram plot, we can make the following inferences:\n",
        "\n",
        "* The mean of the \"Quantity\" attribute is approximately 10. The standard deviation is approximately 107.\n",
        "* The spider plot shows that the distribution of quantities ordered is relatively narrow. This suggests that most orders contained a similar quantity of items."
      ],
      "metadata": {
        "id": "9h0ppP5IH3bW"
      }
    },
    {
      "cell_type": "code",
      "source": [
        "'''\n",
        "To draw a funnel plot, we need to have data with two variables: one that represents the number of events or occurrences, and the other that represents the size of each event or \n",
        "occurrence. Therefore, we need to select an appropriate attribute from the dataset that satisfies this requirement. Looking at the dataset provided (Online Retail II), \n",
        "we can choose the \"Invoice\" attribute for our analysis.\n",
        "'''\n",
        "\n",
        "# group the data by the customer country\n",
        "grouped_df = df.groupby(['Country'])['Invoice'].nunique().reset_index()\n",
        "\n",
        "# sort the countries by the number of invoices\n",
        "grouped_df = grouped_df.sort_values(by=['Invoice'], ascending=False)\n",
        "\n",
        "# create the funnel plot\n",
        "fig = px.funnel(grouped_df, x='Invoice', y='Country')\n",
        "\n",
        "# show the plot\n",
        "fig.show()"
      ],
      "metadata": {
        "colab": {
          "base_uri": "https://localhost:8080/",
          "height": 542
        },
        "id": "FP_7r2h3Iwc9",
        "outputId": "e62c5823-4d86-4d75-fdd5-c4403efa2b66"
      },
      "execution_count": null,
      "outputs": [
        {
          "output_type": "display_data",
          "data": {
            "text/html": [
              "<html>\n",
              "<head><meta charset=\"utf-8\" /></head>\n",
              "<body>\n",
              "    <div>            <script src=\"https://cdnjs.cloudflare.com/ajax/libs/mathjax/2.7.5/MathJax.js?config=TeX-AMS-MML_SVG\"></script><script type=\"text/javascript\">if (window.MathJax) {MathJax.Hub.Config({SVG: {font: \"STIX-Web\"}});}</script>                <script type=\"text/javascript\">window.PlotlyConfig = {MathJaxConfig: 'local'};</script>\n",
              "        <script src=\"https://cdn.plot.ly/plotly-2.8.3.min.js\"></script>                <div id=\"158bcd27-4f2d-4361-9031-5539347d5d92\" class=\"plotly-graph-div\" style=\"height:525px; width:100%;\"></div>            <script type=\"text/javascript\">                                    window.PLOTLYENV=window.PLOTLYENV || {};                                    if (document.getElementById(\"158bcd27-4f2d-4361-9031-5539347d5d92\")) {                    Plotly.newPlot(                        \"158bcd27-4f2d-4361-9031-5539347d5d92\",                        [{\"hovertemplate\":\"Invoice=%{x}<br>Country=%{y}<extra></extra>\",\"legendgroup\":\"\",\"marker\":{\"color\":\"#636efa\"},\"name\":\"\",\"orientation\":\"h\",\"showlegend\":false,\"x\":[26633,513,457,297,150,85,83,65,57,50,50,47,39,33,32,30,25,20,19,18,15,15,15,15,8,6,6,6,4,4,3,3,2,2,2,2,2,1,1,1],\"xaxis\":\"x\",\"y\":[\"United Kingdom\",\"Germany\",\"EIRE\",\"France\",\"Netherlands\",\"Spain\",\"Sweden\",\"Belgium\",\"Portugal\",\"Switzerland\",\"Australia\",\"Channel Islands\",\"Italy\",\"Denmark\",\"Austria\",\"Japan\",\"Cyprus\",\"Finland\",\"United Arab Emirates\",\"USA\",\"Greece\",\"Poland\",\"Norway\",\"Unspecified\",\"Bahrain\",\"Hong Kong\",\"Malta\",\"Lithuania\",\"Singapore\",\"RSA\",\"Korea\",\"Nigeria\",\"Lebanon\",\"Israel\",\"Thailand\",\"Iceland\",\"Canada\",\"Brazil\",\"Bermuda\",\"West Indies\"],\"yaxis\":\"y\",\"type\":\"funnel\"}],                        {\"template\":{\"data\":{\"bar\":[{\"error_x\":{\"color\":\"#2a3f5f\"},\"error_y\":{\"color\":\"#2a3f5f\"},\"marker\":{\"line\":{\"color\":\"#E5ECF6\",\"width\":0.5},\"pattern\":{\"fillmode\":\"overlay\",\"size\":10,\"solidity\":0.2}},\"type\":\"bar\"}],\"barpolar\":[{\"marker\":{\"line\":{\"color\":\"#E5ECF6\",\"width\":0.5},\"pattern\":{\"fillmode\":\"overlay\",\"size\":10,\"solidity\":0.2}},\"type\":\"barpolar\"}],\"carpet\":[{\"aaxis\":{\"endlinecolor\":\"#2a3f5f\",\"gridcolor\":\"white\",\"linecolor\":\"white\",\"minorgridcolor\":\"white\",\"startlinecolor\":\"#2a3f5f\"},\"baxis\":{\"endlinecolor\":\"#2a3f5f\",\"gridcolor\":\"white\",\"linecolor\":\"white\",\"minorgridcolor\":\"white\",\"startlinecolor\":\"#2a3f5f\"},\"type\":\"carpet\"}],\"choropleth\":[{\"colorbar\":{\"outlinewidth\":0,\"ticks\":\"\"},\"type\":\"choropleth\"}],\"contour\":[{\"colorbar\":{\"outlinewidth\":0,\"ticks\":\"\"},\"colorscale\":[[0.0,\"#0d0887\"],[0.1111111111111111,\"#46039f\"],[0.2222222222222222,\"#7201a8\"],[0.3333333333333333,\"#9c179e\"],[0.4444444444444444,\"#bd3786\"],[0.5555555555555556,\"#d8576b\"],[0.6666666666666666,\"#ed7953\"],[0.7777777777777778,\"#fb9f3a\"],[0.8888888888888888,\"#fdca26\"],[1.0,\"#f0f921\"]],\"type\":\"contour\"}],\"contourcarpet\":[{\"colorbar\":{\"outlinewidth\":0,\"ticks\":\"\"},\"type\":\"contourcarpet\"}],\"heatmap\":[{\"colorbar\":{\"outlinewidth\":0,\"ticks\":\"\"},\"colorscale\":[[0.0,\"#0d0887\"],[0.1111111111111111,\"#46039f\"],[0.2222222222222222,\"#7201a8\"],[0.3333333333333333,\"#9c179e\"],[0.4444444444444444,\"#bd3786\"],[0.5555555555555556,\"#d8576b\"],[0.6666666666666666,\"#ed7953\"],[0.7777777777777778,\"#fb9f3a\"],[0.8888888888888888,\"#fdca26\"],[1.0,\"#f0f921\"]],\"type\":\"heatmap\"}],\"heatmapgl\":[{\"colorbar\":{\"outlinewidth\":0,\"ticks\":\"\"},\"colorscale\":[[0.0,\"#0d0887\"],[0.1111111111111111,\"#46039f\"],[0.2222222222222222,\"#7201a8\"],[0.3333333333333333,\"#9c179e\"],[0.4444444444444444,\"#bd3786\"],[0.5555555555555556,\"#d8576b\"],[0.6666666666666666,\"#ed7953\"],[0.7777777777777778,\"#fb9f3a\"],[0.8888888888888888,\"#fdca26\"],[1.0,\"#f0f921\"]],\"type\":\"heatmapgl\"}],\"histogram\":[{\"marker\":{\"pattern\":{\"fillmode\":\"overlay\",\"size\":10,\"solidity\":0.2}},\"type\":\"histogram\"}],\"histogram2d\":[{\"colorbar\":{\"outlinewidth\":0,\"ticks\":\"\"},\"colorscale\":[[0.0,\"#0d0887\"],[0.1111111111111111,\"#46039f\"],[0.2222222222222222,\"#7201a8\"],[0.3333333333333333,\"#9c179e\"],[0.4444444444444444,\"#bd3786\"],[0.5555555555555556,\"#d8576b\"],[0.6666666666666666,\"#ed7953\"],[0.7777777777777778,\"#fb9f3a\"],[0.8888888888888888,\"#fdca26\"],[1.0,\"#f0f921\"]],\"type\":\"histogram2d\"}],\"histogram2dcontour\":[{\"colorbar\":{\"outlinewidth\":0,\"ticks\":\"\"},\"colorscale\":[[0.0,\"#0d0887\"],[0.1111111111111111,\"#46039f\"],[0.2222222222222222,\"#7201a8\"],[0.3333333333333333,\"#9c179e\"],[0.4444444444444444,\"#bd3786\"],[0.5555555555555556,\"#d8576b\"],[0.6666666666666666,\"#ed7953\"],[0.7777777777777778,\"#fb9f3a\"],[0.8888888888888888,\"#fdca26\"],[1.0,\"#f0f921\"]],\"type\":\"histogram2dcontour\"}],\"mesh3d\":[{\"colorbar\":{\"outlinewidth\":0,\"ticks\":\"\"},\"type\":\"mesh3d\"}],\"parcoords\":[{\"line\":{\"colorbar\":{\"outlinewidth\":0,\"ticks\":\"\"}},\"type\":\"parcoords\"}],\"pie\":[{\"automargin\":true,\"type\":\"pie\"}],\"scatter\":[{\"marker\":{\"colorbar\":{\"outlinewidth\":0,\"ticks\":\"\"}},\"type\":\"scatter\"}],\"scatter3d\":[{\"line\":{\"colorbar\":{\"outlinewidth\":0,\"ticks\":\"\"}},\"marker\":{\"colorbar\":{\"outlinewidth\":0,\"ticks\":\"\"}},\"type\":\"scatter3d\"}],\"scattercarpet\":[{\"marker\":{\"colorbar\":{\"outlinewidth\":0,\"ticks\":\"\"}},\"type\":\"scattercarpet\"}],\"scattergeo\":[{\"marker\":{\"colorbar\":{\"outlinewidth\":0,\"ticks\":\"\"}},\"type\":\"scattergeo\"}],\"scattergl\":[{\"marker\":{\"colorbar\":{\"outlinewidth\":0,\"ticks\":\"\"}},\"type\":\"scattergl\"}],\"scattermapbox\":[{\"marker\":{\"colorbar\":{\"outlinewidth\":0,\"ticks\":\"\"}},\"type\":\"scattermapbox\"}],\"scatterpolar\":[{\"marker\":{\"colorbar\":{\"outlinewidth\":0,\"ticks\":\"\"}},\"type\":\"scatterpolar\"}],\"scatterpolargl\":[{\"marker\":{\"colorbar\":{\"outlinewidth\":0,\"ticks\":\"\"}},\"type\":\"scatterpolargl\"}],\"scatterternary\":[{\"marker\":{\"colorbar\":{\"outlinewidth\":0,\"ticks\":\"\"}},\"type\":\"scatterternary\"}],\"surface\":[{\"colorbar\":{\"outlinewidth\":0,\"ticks\":\"\"},\"colorscale\":[[0.0,\"#0d0887\"],[0.1111111111111111,\"#46039f\"],[0.2222222222222222,\"#7201a8\"],[0.3333333333333333,\"#9c179e\"],[0.4444444444444444,\"#bd3786\"],[0.5555555555555556,\"#d8576b\"],[0.6666666666666666,\"#ed7953\"],[0.7777777777777778,\"#fb9f3a\"],[0.8888888888888888,\"#fdca26\"],[1.0,\"#f0f921\"]],\"type\":\"surface\"}],\"table\":[{\"cells\":{\"fill\":{\"color\":\"#EBF0F8\"},\"line\":{\"color\":\"white\"}},\"header\":{\"fill\":{\"color\":\"#C8D4E3\"},\"line\":{\"color\":\"white\"}},\"type\":\"table\"}]},\"layout\":{\"annotationdefaults\":{\"arrowcolor\":\"#2a3f5f\",\"arrowhead\":0,\"arrowwidth\":1},\"autotypenumbers\":\"strict\",\"coloraxis\":{\"colorbar\":{\"outlinewidth\":0,\"ticks\":\"\"}},\"colorscale\":{\"diverging\":[[0,\"#8e0152\"],[0.1,\"#c51b7d\"],[0.2,\"#de77ae\"],[0.3,\"#f1b6da\"],[0.4,\"#fde0ef\"],[0.5,\"#f7f7f7\"],[0.6,\"#e6f5d0\"],[0.7,\"#b8e186\"],[0.8,\"#7fbc41\"],[0.9,\"#4d9221\"],[1,\"#276419\"]],\"sequential\":[[0.0,\"#0d0887\"],[0.1111111111111111,\"#46039f\"],[0.2222222222222222,\"#7201a8\"],[0.3333333333333333,\"#9c179e\"],[0.4444444444444444,\"#bd3786\"],[0.5555555555555556,\"#d8576b\"],[0.6666666666666666,\"#ed7953\"],[0.7777777777777778,\"#fb9f3a\"],[0.8888888888888888,\"#fdca26\"],[1.0,\"#f0f921\"]],\"sequentialminus\":[[0.0,\"#0d0887\"],[0.1111111111111111,\"#46039f\"],[0.2222222222222222,\"#7201a8\"],[0.3333333333333333,\"#9c179e\"],[0.4444444444444444,\"#bd3786\"],[0.5555555555555556,\"#d8576b\"],[0.6666666666666666,\"#ed7953\"],[0.7777777777777778,\"#fb9f3a\"],[0.8888888888888888,\"#fdca26\"],[1.0,\"#f0f921\"]]},\"colorway\":[\"#636efa\",\"#EF553B\",\"#00cc96\",\"#ab63fa\",\"#FFA15A\",\"#19d3f3\",\"#FF6692\",\"#B6E880\",\"#FF97FF\",\"#FECB52\"],\"font\":{\"color\":\"#2a3f5f\"},\"geo\":{\"bgcolor\":\"white\",\"lakecolor\":\"white\",\"landcolor\":\"#E5ECF6\",\"showlakes\":true,\"showland\":true,\"subunitcolor\":\"white\"},\"hoverlabel\":{\"align\":\"left\"},\"hovermode\":\"closest\",\"mapbox\":{\"style\":\"light\"},\"paper_bgcolor\":\"white\",\"plot_bgcolor\":\"#E5ECF6\",\"polar\":{\"angularaxis\":{\"gridcolor\":\"white\",\"linecolor\":\"white\",\"ticks\":\"\"},\"bgcolor\":\"#E5ECF6\",\"radialaxis\":{\"gridcolor\":\"white\",\"linecolor\":\"white\",\"ticks\":\"\"}},\"scene\":{\"xaxis\":{\"backgroundcolor\":\"#E5ECF6\",\"gridcolor\":\"white\",\"gridwidth\":2,\"linecolor\":\"white\",\"showbackground\":true,\"ticks\":\"\",\"zerolinecolor\":\"white\"},\"yaxis\":{\"backgroundcolor\":\"#E5ECF6\",\"gridcolor\":\"white\",\"gridwidth\":2,\"linecolor\":\"white\",\"showbackground\":true,\"ticks\":\"\",\"zerolinecolor\":\"white\"},\"zaxis\":{\"backgroundcolor\":\"#E5ECF6\",\"gridcolor\":\"white\",\"gridwidth\":2,\"linecolor\":\"white\",\"showbackground\":true,\"ticks\":\"\",\"zerolinecolor\":\"white\"}},\"shapedefaults\":{\"line\":{\"color\":\"#2a3f5f\"}},\"ternary\":{\"aaxis\":{\"gridcolor\":\"white\",\"linecolor\":\"white\",\"ticks\":\"\"},\"baxis\":{\"gridcolor\":\"white\",\"linecolor\":\"white\",\"ticks\":\"\"},\"bgcolor\":\"#E5ECF6\",\"caxis\":{\"gridcolor\":\"white\",\"linecolor\":\"white\",\"ticks\":\"\"}},\"title\":{\"x\":0.05},\"xaxis\":{\"automargin\":true,\"gridcolor\":\"white\",\"linecolor\":\"white\",\"ticks\":\"\",\"title\":{\"standoff\":15},\"zerolinecolor\":\"white\",\"zerolinewidth\":2},\"yaxis\":{\"automargin\":true,\"gridcolor\":\"white\",\"linecolor\":\"white\",\"ticks\":\"\",\"title\":{\"standoff\":15},\"zerolinecolor\":\"white\",\"zerolinewidth\":2}}},\"xaxis\":{\"anchor\":\"y\",\"domain\":[0.0,1.0],\"title\":{\"text\":\"Invoice\"}},\"yaxis\":{\"anchor\":\"x\",\"domain\":[0.0,1.0],\"title\":{\"text\":\"Country\"}},\"legend\":{\"tracegroupgap\":0},\"margin\":{\"t\":60}},                        {\"responsive\": true}                    ).then(function(){\n",
              "                            \n",
              "var gd = document.getElementById('158bcd27-4f2d-4361-9031-5539347d5d92');\n",
              "var x = new MutationObserver(function (mutations, observer) {{\n",
              "        var display = window.getComputedStyle(gd).display;\n",
              "        if (!display || display === 'none') {{\n",
              "            console.log([gd, 'removed!']);\n",
              "            Plotly.purge(gd);\n",
              "            observer.disconnect();\n",
              "        }}\n",
              "}});\n",
              "\n",
              "// Listen for the removal of the full notebook cells\n",
              "var notebookContainer = gd.closest('#notebook-container');\n",
              "if (notebookContainer) {{\n",
              "    x.observe(notebookContainer, {childList: true});\n",
              "}}\n",
              "\n",
              "// Listen for the clearing of the current output cell\n",
              "var outputEl = gd.closest('.output');\n",
              "if (outputEl) {{\n",
              "    x.observe(outputEl, {childList: true});\n",
              "}}\n",
              "\n",
              "                        })                };                            </script>        </div>\n",
              "</body>\n",
              "</html>"
            ]
          },
          "metadata": {}
        }
      ]
    },
    {
      "cell_type": "markdown",
      "source": [
        "Sure, here are some possible inferences from the funnel plot:\n",
        "\n",
        "* The funnel plot shows the number of unique invoices per country in the dataset. The plot suggests that the majority of invoices in the dataset come from the United Kingdom, followed by EIRE, Germany, and France, with relatively fewer invoices from other countries. This suggests that the dataset may not be representative of online retail across all countries, but may be biased towards customers and transactions from the United Kingdom and a few other European countries.\n",
        "* The funnel plot can be used to identify outlier countries with either a very high or very low number of invoices. In this case, the plot shows that the United Kingdom has significantly more invoices than any other country in the dataset, suggesting that it may be a key market for online retail.\n",
        "* The funnel plot can also be used to compare the performance of different countries in terms of the number of invoices. In this case, the plot shows that the number of invoices in Germany and France is relatively close, but still lower than in the United Kingdom and EIRE. This suggests that online retail may be less developed or less popular in these countries, or that there may be other factors that influence the number of invoices per country.\n",
        "* Finally, the funnel plot can be used to identify potential areas for improvement or expansion in online retail. For example, if a company wants to increase its presence in France or Germany, it could use the funnel plot to identify areas where it is currently underperforming relative to the market leaders, and develop targeted strategies to address these areas."
      ],
      "metadata": {
        "id": "Dl-mWYMCJyot"
      }
    },
    {
      "cell_type": "code",
      "source": [
        "'''\n",
        "Let's draw a Pareto plot using the given dataset. For this example, we'll use the \"Quantity\" attribute as it represents the number of items ordered by each customer.\n",
        "'''\n",
        "from matplotlib.ticker import PercentFormatter\n",
        "\n",
        "# Group the data by customer ID and sum the quantities\n",
        "grouped = df.groupby('Customer ID')['Quantity'].sum().reset_index()\n",
        "\n",
        "# Sort the data in descending order by Quantity\n",
        "grouped = grouped.sort_values(by='Quantity', ascending=False).reset_index()\n",
        "\n",
        "# Calculate the cumulative percentage of the total quantity\n",
        "grouped['cumulative_percent'] = grouped['Quantity'].cumsum() / grouped['Quantity'].sum() * 100\n",
        "\n",
        "# Set figure and axis\n",
        "fig, ax = plt.subplots(figsize=(15,8))\n",
        "# Plot bars (i.e. frequencies)\n",
        "ax.bar(grouped.index, grouped[\"Quantity\"], color ='blue',width = 0.4)\n",
        "ax.set_title(\"Pareto Chart\")\n",
        "ax.set_xlabel(\"Customer ID\")\n",
        "ax.set_ylabel(\"Quantity\")\n",
        "# Second y axis (i.e. cumulative percentage)\n",
        "ax2 = ax.twinx()\n",
        "ax2.plot(grouped.index, grouped[\"cumulative_percent\"], color=\"red\", marker=\"D\", ms=7)\n",
        "ax2.axhline(80, color=\"orange\", linestyle=\"dashed\")\n",
        "ax2.yaxis.set_major_formatter(PercentFormatter())\n",
        "ax2.set_ylabel(\"Cumulative Percentage\")\n",
        "plt.show()"
      ],
      "metadata": {
        "colab": {
          "base_uri": "https://localhost:8080/",
          "height": 513
        },
        "id": "OFiRcXr6t9_A",
        "outputId": "ad0c5368-0f78-4783-c88d-73d749600608"
      },
      "execution_count": null,
      "outputs": [
        {
          "output_type": "display_data",
          "data": {
            "text/plain": [
              "<Figure size 1080x576 with 2 Axes>"
            ],
            "image/png": "[encoded data removed]"
          },
          "metadata": {
            "needs_background": "light"
          }
        }
      ]
    },
    {
      "cell_type": "markdown",
      "source": [
        "Here are some possible inferences that can be drawn from the Pareto plot...\n",
        "\n",
        "* The Pareto chart shows the distribution of the Quantity variable by Customer ID.\n",
        "* The bars in the chart represent the frequency of the Quantity variable for each customer, with the highest frequency customer being the first bar.\n",
        "* The cumulative percentage line represents the cumulative percentage of total Quantity across all customers. The red diamond markers on the line indicate the cumulative percentage for each customer, starting from the highest frequency customer and moving downwards.\n",
        "* The horizontal dashed line at 80% represents the threshold for the 80/20 rule, which states that 80% of the effects come from 20% of the causes.\n",
        "* The chart shows that a few customers have a disproportionately high quantity of items, as indicated by the steep increase in the cumulative percentage line at the beginning.\n",
        "* The majority of customers have a relatively low quantity of items, as indicated by the gradual increase in the cumulative percentage line towards 100%.\n",
        "* The chart suggests that focusing on the top few customers could potentially yield a significant portion of the total quantity, as per the 80/20 rule."
      ],
      "metadata": {
        "id": "hi8GvZmW8pDs"
      }
    },
    {
      "cell_type": "code",
      "source": [
        "# Group the data by Country and sum the Price\n",
        "grouped = df.groupby('Country')['Price'].sum().reset_index()\n",
        "\n",
        "# Sort the data in descending order by Price\n",
        "grouped = grouped.sort_values(by='Price', ascending=False).reset_index()\n",
        "\n",
        "# Create a pie chart\n",
        "fig, ax = plt.subplots(figsize=(10, 6))\n",
        "ax.pie(grouped['Price'], labels=grouped['Country'], autopct='%1.1f%%', startangle=90)\n",
        "ax.set_title(\"Total Revenue by Country\")\n",
        "plt.show()"
      ],
      "metadata": {
        "colab": {
          "base_uri": "https://localhost:8080/",
          "height": 373
        },
        "id": "5XeoxkuV9Vey",
        "outputId": "fcedf430-9a67-47e0-a413-c9eddcf88c94"
      },
      "execution_count": null,
      "outputs": [
        {
          "output_type": "display_data",
          "data": {
            "text/plain": [
              "<Figure size 720x432 with 1 Axes>"
            ],
            "image/png": "[encoded data removed]"
          },
          "metadata": {}
        }
      ]
    },
    {
      "cell_type": "markdown",
      "source": [
        "Here are some possible inferences we can draw from this plot:\n",
        "\n",
        "* The majority of the revenue in this dataset comes from the United Kingdom, with almost 90% of the total revenue generated by customers from that country.\n",
        "* The other countries in the dataset, while contributing to the overall revenue, only account for a small percentage of the total.\n",
        "* It might be worth investigating why the United Kingdom generates so much more revenue than the other countries. Are there cultural or economic factors at play that make UK customers more likely to make purchases from this retailer? Alternatively, are there specific marketing or promotional strategies that have been particularly effective in the UK?"
      ],
      "metadata": {
        "id": "PvLycbB_9sAs"
      }
    },
    {
      "cell_type": "code",
      "source": [
        "# Select the variables\n",
        "data = df[['Quantity', 'Price']]\n",
        "\n",
        "# Calculate the correlation matrix\n",
        "corr_matrix = data.corr()\n",
        "\n",
        "# Plot the heatmap\n",
        "sns.heatmap(corr_matrix, annot=True, cmap='coolwarm')\n",
        "plt.title('Correlation Heatmap')\n",
        "plt.show()"
      ],
      "metadata": {
        "colab": {
          "base_uri": "https://localhost:8080/",
          "height": 281
        },
        "id": "CiFBmshP-G-x",
        "outputId": "a7c31d59-f8cd-4bf3-b8e6-ae83a12d6843"
      },
      "execution_count": null,
      "outputs": [
        {
          "output_type": "display_data",
          "data": {
            "text/plain": [
              "<Figure size 432x288 with 2 Axes>"
            ],
            "image/png": "[encoded data removed]"
          },
          "metadata": {
            "needs_background": "light"
          }
        }
      ]
    },
    {
      "cell_type": "markdown",
      "source": [
        "The resulting heatmap will show the correlation between Quantity and Price. Each cell in the heatmap represents the correlation coefficient between the two variables. The color of the cell indicates the strength of the correlation, with red indicating a strong positive correlation, blue indicating a strong negative correlation, and white indicating no correlation.\n",
        "\n",
        "Inference:\n",
        "\n",
        "* The heatmap shows a moderate negative correlation between Quantity and Price, with a correlation coefficient of approximately -.0019. This suggests that as the quantity of items ordered increases, the unit price tends to decrease, although the relationship is not very strong."
      ],
      "metadata": {
        "id": "mcKPiAzV-7Y3"
      }
    },
    {
      "cell_type": "code",
      "source": [
        "# Group the data by country and sum the quantities\n",
        "grouped = df.groupby('Country')['Quantity'].sum().reset_index()\n",
        "\n",
        "# Sort the data in descending order by Quantity\n",
        "grouped = grouped.sort_values(by='Quantity', ascending=False).reset_index()\n",
        "\n",
        "# Set up the tree map\n",
        "squarify.plot(sizes=grouped['Quantity'], label=grouped['Country'], alpha=.8 )\n",
        "\n",
        "# Set plot title and labels\n",
        "plt.title(\"Online Retail Tree Map by Country\")\n",
        "plt.axis('off')\n",
        "\n",
        "# Show the plot\n",
        "plt.show()"
      ],
      "metadata": {
        "colab": {
          "base_uri": "https://localhost:8080/",
          "height": 264
        },
        "id": "_ga3EL9R_dH2",
        "outputId": "dbd58b64-b6f4-41ec-fb47-5bbbdf2bc068"
      },
      "execution_count": null,
      "outputs": [
        {
          "output_type": "display_data",
          "data": {
            "text/plain": [
              "<Figure size 432x288 with 1 Axes>"
            ],
            "image/png": "[encoded data removed]"
          },
          "metadata": {
            "needs_background": "light"
          }
        }
      ]
    },
    {
      "cell_type": "markdown",
      "source": [
        "The output will be a tree map that visually displays the distribution of quantities of orders by country. The larger the area of the rectangle representing the country, the larger the quantity of orders from that country.\n",
        "\n",
        "Inference:\n",
        "\n",
        "* The tree map shows that the majority of orders came from the United Kingdom, followed by European countries such as Germany, France, and Ireland.\n",
        "* The tree map provides an effective way to visualize the distribution of orders by country in a visually appealing manner."
      ],
      "metadata": {
        "id": "UnrKsjQF_4m3"
      }
    },
    {
      "cell_type": "markdown",
      "source": [
        "# Data preprocessing "
      ],
      "metadata": {
        "id": "DVSYdH5dCNv-"
      }
    },
    {
      "cell_type": "markdown",
      "source": [
        "## 1. Data cleaning"
      ],
      "metadata": {
        "id": "YvhEWMamOco1"
      }
    },
    {
      "cell_type": "code",
      "source": [
        "'''\n",
        "Cleaning for Quantity attribute...\n",
        "\n",
        "-> Check for negative values, remove if any as it does not make sense to have negative quantity.\n",
        "-> Check for outliers and remove them if necessary.\n",
        "-> Check for missing values, if any fill it with appropriate values.\n",
        "'''\n",
        "\n",
        "# Create a new dataframe for cleaned data\n",
        "df_cleaned = pd.DataFrame()\n",
        "\n",
        "# Check for negative values and remove them\n",
        "df_cleaned = df[df['Quantity'] > 0]\n",
        "\n",
        "# Check for outliers and remove them if necessary\n",
        "Q1 = df_cleaned['Quantity'].quantile(0.25)\n",
        "Q3 = df_cleaned['Quantity'].quantile(0.75)\n",
        "IQR = Q3 - Q1\n",
        "df_cleaned = df_cleaned[(df_cleaned['Quantity'] >= Q1 - 1.5*IQR) & (df_cleaned['Quantity'] <= Q3 + 1.5*IQR)]\n",
        "\n",
        "# Check for missing values and fill them with appropriate values\n",
        "df_cleaned['Quantity'] = df_cleaned['Quantity'].fillna(df_cleaned['Quantity'].median())\n",
        "\n",
        "# Print the cleaned dataframe\n",
        "print(df_cleaned.head())"
      ],
      "metadata": {
        "colab": {
          "base_uri": "https://localhost:8080/"
        },
        "id": "TYmaEY06EQWE",
        "outputId": "c18e9203-0369-4f38-ec96-0feda8dd1350"
      },
      "execution_count": null,
      "outputs": [
        {
          "output_type": "stream",
          "name": "stdout",
          "text": [
            "  Invoice StockCode                          Description  Quantity  \\\n",
            "0  489434     85048  15CM CHRISTMAS GLASS BALL 20 LIGHTS        12   \n",
            "1  489434    79323P                   PINK CHERRY LIGHTS        12   \n",
            "2  489434    79323W                  WHITE CHERRY LIGHTS        12   \n",
            "7  489434     21523   FANCY FONT HOME SWEET HOME DOORMAT        10   \n",
            "8  489435     22350                            CAT BOWL         12   \n",
            "\n",
            "          InvoiceDate  Price  Customer ID         Country  \n",
            "0 2009-12-01 07:45:00   6.95      13085.0  United Kingdom  \n",
            "1 2009-12-01 07:45:00   6.75      13085.0  United Kingdom  \n",
            "2 2009-12-01 07:45:00   6.75      13085.0  United Kingdom  \n",
            "7 2009-12-01 07:45:00   5.95      13085.0  United Kingdom  \n",
            "8 2009-12-01 07:46:00   2.55      13085.0  United Kingdom  \n"
          ]
        }
      ]
    },
    {
      "cell_type": "code",
      "source": [
        "'''\n",
        "Cleaning for Price attribute...\n",
        "\n",
        "-> Check for negative values, remove if any as it does not make sense to have negative price.\n",
        "-> Check for outliers and remove them if necessary.\n",
        "-> Check for missing values, if any fill it with appropriate values.\n",
        "'''\n",
        "\n",
        "# Create a new DataFrame to store the cleaned data\n",
        "cleaned_df = pd.DataFrame()\n",
        "\n",
        "# Check for negative values and remove them\n",
        "df = df[df['Price'] >= 0]\n",
        "\n",
        "# Check for outliers and remove them\n",
        "Q1 = df['Price'].quantile(0.25)\n",
        "Q3 = df['Price'].quantile(0.75)\n",
        "IQR = Q3 - Q1\n",
        "df = df[(df['Price'] >= Q1 - 1.5*IQR) & (df['Price'] <= Q3 + 1.5*IQR)]\n",
        "\n",
        "# Check for missing values and fill them with appropriate values\n",
        "if df['Price'].isnull().sum() > 0:\n",
        "    mean_price = df['Price'].mean()\n",
        "    df['Price'].fillna(mean_price, inplace=True)\n",
        "\n",
        "# Store the cleaned data in the new DataFrame\n",
        "cleaned_df['Price'] = df['Price']\n",
        "\n",
        "# Print the cleaned dataframe\n",
        "print(df_cleaned.head())"
      ],
      "metadata": {
        "colab": {
          "base_uri": "https://localhost:8080/"
        },
        "id": "ctE0GLlDGPD4",
        "outputId": "274d9103-d54a-4217-bae3-f77c5399b40f"
      },
      "execution_count": null,
      "outputs": [
        {
          "output_type": "stream",
          "name": "stdout",
          "text": [
            "  Invoice StockCode                          Description  Quantity  \\\n",
            "0  489434     85048  15CM CHRISTMAS GLASS BALL 20 LIGHTS        12   \n",
            "1  489434    79323P                   PINK CHERRY LIGHTS        12   \n",
            "2  489434    79323W                  WHITE CHERRY LIGHTS        12   \n",
            "7  489434     21523   FANCY FONT HOME SWEET HOME DOORMAT        10   \n",
            "8  489435     22350                            CAT BOWL         12   \n",
            "\n",
            "          InvoiceDate  Price  Customer ID         Country  \n",
            "0 2009-12-01 07:45:00   6.95      13085.0  United Kingdom  \n",
            "1 2009-12-01 07:45:00   6.75      13085.0  United Kingdom  \n",
            "2 2009-12-01 07:45:00   6.75      13085.0  United Kingdom  \n",
            "7 2009-12-01 07:45:00   5.95      13085.0  United Kingdom  \n",
            "8 2009-12-01 07:46:00   2.55      13085.0  United Kingdom  \n"
          ]
        }
      ]
    },
    {
      "cell_type": "code",
      "source": [
        "'''\n",
        "Cleaning for InvoiceDate  attribute...\n",
        "\n",
        "-> Check for missing values, if any fill it with appropriate values.\n",
        "-> Convert the data type to datetime format for further analysis.\n",
        "-> Extract features like year, month, day, hour, etc. from the datetime format for better analysis.\n",
        "'''\n",
        "\n",
        "# create a copy of the dataframe to store cleaned data\n",
        "df_cleaned_invoice = df.copy()\n",
        "\n",
        "# fill missing values with the mode value of the column\n",
        "df_cleaned_invoice['InvoiceDate'] = df_cleaned_invoice['InvoiceDate'].fillna(df_cleaned_invoice['InvoiceDate'].mode()[0])\n",
        "\n",
        "# convert the InvoiceDate column to datetime format\n",
        "df_cleaned_invoice['InvoiceDate'] = pd.to_datetime(df_cleaned_invoice['InvoiceDate'], format='%Y-%m-%d %H:%M:%S')\n",
        "\n",
        "# extract year, month, day, and hour from InvoiceDate\n",
        "df_cleaned_invoice['Year'] = df_cleaned_invoice['InvoiceDate'].dt.year\n",
        "df_cleaned_invoice['Month'] = df_cleaned_invoice['InvoiceDate'].dt.month\n",
        "df_cleaned_invoice['Day'] = df_cleaned_invoice['InvoiceDate'].dt.day\n",
        "df_cleaned_invoice['Hour'] = df_cleaned_invoice['InvoiceDate'].dt.hour\n",
        "\n",
        "# print the cleaned dataframe\n",
        "print(df_cleaned_invoice.head())"
      ],
      "metadata": {
        "colab": {
          "base_uri": "https://localhost:8080/"
        },
        "id": "2TwC49wTHZwx",
        "outputId": "70571651-e56f-4dd9-a158-bf8dbc6797e6"
      },
      "execution_count": null,
      "outputs": [
        {
          "output_type": "stream",
          "name": "stdout",
          "text": [
            "  Invoice StockCode                          Description  Quantity  \\\n",
            "0  489434     85048  15CM CHRISTMAS GLASS BALL 20 LIGHTS        12   \n",
            "1  489434    79323P                   PINK CHERRY LIGHTS        12   \n",
            "2  489434    79323W                  WHITE CHERRY LIGHTS        12   \n",
            "3  489434     22041         RECORD FRAME 7\" SINGLE SIZE         48   \n",
            "4  489434     21232       STRAWBERRY CERAMIC TRINKET BOX        24   \n",
            "\n",
            "          InvoiceDate  Price  Customer ID         Country  Year  Month  Day  \\\n",
            "0 2009-12-01 07:45:00   6.95      13085.0  United Kingdom  2009     12    1   \n",
            "1 2009-12-01 07:45:00   6.75      13085.0  United Kingdom  2009     12    1   \n",
            "2 2009-12-01 07:45:00   6.75      13085.0  United Kingdom  2009     12    1   \n",
            "3 2009-12-01 07:45:00   2.10      13085.0  United Kingdom  2009     12    1   \n",
            "4 2009-12-01 07:45:00   1.25      13085.0  United Kingdom  2009     12    1   \n",
            "\n",
            "   Hour  \n",
            "0     7  \n",
            "1     7  \n",
            "2     7  \n",
            "3     7  \n",
            "4     7  \n"
          ]
        }
      ]
    },
    {
      "cell_type": "markdown",
      "source": [
        "## 2. Data transformation"
      ],
      "metadata": {
        "id": "S9n0js7COgy0"
      }
    },
    {
      "cell_type": "code",
      "source": [
        "'''\n",
        "Based on the previous analysis, the best suitable attribute for data transformation would be the Quantity attribute.\n",
        "\n",
        "One common transformation for Quantity is normalization. Normalization scales the data between 0 and 1 by subtracting the minimum value and dividing by the range of the data.\n",
        "\n",
        "To perform normalization on Quantity attribute, we can use the MinMaxScaler function from the scikit-learn library.\n",
        "'''\n",
        "\n",
        "# Create a scaler object\n",
        "scaler = MinMaxScaler()\n",
        "\n",
        "# create a copy of the dataframe \n",
        "df_norm = df.copy()\n",
        "\n",
        "# Apply normalization on Quantity column\n",
        "df_norm['Quantity'] = scaler.fit_transform(df[['Quantity']])\n",
        "\n",
        "# print the cleaned dataframe\n",
        "print(df_norm.head())"
      ],
      "metadata": {
        "colab": {
          "base_uri": "https://localhost:8080/"
        },
        "id": "jXHuj80MMvkW",
        "outputId": "1ee49827-02f2-4d6b-d606-8e80157ea53e"
      },
      "execution_count": null,
      "outputs": [
        {
          "output_type": "stream",
          "name": "stdout",
          "text": [
            "  Invoice StockCode                          Description  Quantity  \\\n",
            "0  489434     85048  15CM CHRISTMAS GLASS BALL 20 LIGHTS  0.334307   \n",
            "1  489434    79323P                   PINK CHERRY LIGHTS  0.334307   \n",
            "2  489434    79323W                  WHITE CHERRY LIGHTS  0.334307   \n",
            "3  489434     22041         RECORD FRAME 7\" SINGLE SIZE   0.335559   \n",
            "4  489434     21232       STRAWBERRY CERAMIC TRINKET BOX  0.334725   \n",
            "\n",
            "          InvoiceDate  Price  Customer ID         Country  Quantity_normalized  \n",
            "0 2009-12-01 07:45:00   6.95      13085.0  United Kingdom             0.334307  \n",
            "1 2009-12-01 07:45:00   6.75      13085.0  United Kingdom             0.334307  \n",
            "2 2009-12-01 07:45:00   6.75      13085.0  United Kingdom             0.334307  \n",
            "3 2009-12-01 07:45:00   2.10      13085.0  United Kingdom             0.335559  \n",
            "4 2009-12-01 07:45:00   1.25      13085.0  United Kingdom             0.334725  \n"
          ]
        }
      ]
    },
    {
      "cell_type": "markdown",
      "source": [
        "Based on the dataset, the best suitable attribute for binning could be the Quantity attribute.\n",
        "\n",
        "Binning is a data transformation technique where continuous numerical data is divided into discrete groups, or bins. Binning is useful for reducing the effect of minor observation errors and for smoothing data.\n",
        "\n"
      ],
      "metadata": {
        "id": "qKrMxgmMONwV"
      }
    },
    {
      "cell_type": "code",
      "source": [
        "# Create a new dataframe to store the binned values\n",
        "df_binned = df.copy()\n",
        "\n",
        "# Define the bin edges\n",
        "bin_edges = [0, 50, 100, 200, 500, 1000, 5000, 10000, np.inf]\n",
        "\n",
        "# Define the labels for the bins\n",
        "bin_labels = ['<50', '50-100', '100-200', '200-500', '500-1000', '1000-5000', '5000-10000', '>10000']\n",
        "\n",
        "# Bin the Price column and store the results in a new column 'Price_bin'\n",
        "df_binned['Price_bin'] = pd.cut(df_binned['Price'], bins=bin_edges, labels=bin_labels)\n",
        "\n",
        "# Print the first 10 rows of the new dataframe\n",
        "print(df_binned.head(10))"
      ],
      "metadata": {
        "colab": {
          "base_uri": "https://localhost:8080/"
        },
        "id": "yuo_SAt1O8DU",
        "outputId": "72a06641-f0b2-41db-a088-723d980a224e"
      },
      "execution_count": null,
      "outputs": [
        {
          "output_type": "stream",
          "name": "stdout",
          "text": [
            "  Invoice StockCode                          Description  Quantity  \\\n",
            "0  489434     85048  15CM CHRISTMAS GLASS BALL 20 LIGHTS        12   \n",
            "1  489434    79323P                   PINK CHERRY LIGHTS        12   \n",
            "2  489434    79323W                  WHITE CHERRY LIGHTS        12   \n",
            "3  489434     22041         RECORD FRAME 7\" SINGLE SIZE         48   \n",
            "4  489434     21232       STRAWBERRY CERAMIC TRINKET BOX        24   \n",
            "5  489434     22064           PINK DOUGHNUT TRINKET POT         24   \n",
            "6  489434     21871                  SAVE THE PLANET MUG        24   \n",
            "7  489434     21523   FANCY FONT HOME SWEET HOME DOORMAT        10   \n",
            "8  489435     22350                            CAT BOWL         12   \n",
            "9  489435     22349       DOG BOWL , CHASING BALL DESIGN        12   \n",
            "\n",
            "          InvoiceDate  Price  Customer ID         Country  \\\n",
            "0 2009-12-01 07:45:00   6.95      13085.0  United Kingdom   \n",
            "1 2009-12-01 07:45:00   6.75      13085.0  United Kingdom   \n",
            "2 2009-12-01 07:45:00   6.75      13085.0  United Kingdom   \n",
            "3 2009-12-01 07:45:00   2.10      13085.0  United Kingdom   \n",
            "4 2009-12-01 07:45:00   1.25      13085.0  United Kingdom   \n",
            "5 2009-12-01 07:45:00   1.65      13085.0  United Kingdom   \n",
            "6 2009-12-01 07:45:00   1.25      13085.0  United Kingdom   \n",
            "7 2009-12-01 07:45:00   5.95      13085.0  United Kingdom   \n",
            "8 2009-12-01 07:46:00   2.55      13085.0  United Kingdom   \n",
            "9 2009-12-01 07:46:00   3.75      13085.0  United Kingdom   \n",
            "\n",
            "   Quantity_normalized Price_bin  \n",
            "0             0.334307       <50  \n",
            "1             0.334307       <50  \n",
            "2             0.334307       <50  \n",
            "3             0.335559       <50  \n",
            "4             0.334725       <50  \n",
            "5             0.334725       <50  \n",
            "6             0.334725       <50  \n",
            "7             0.334238       <50  \n",
            "8             0.334307       <50  \n",
            "9             0.334307       <50  \n"
          ]
        }
      ]
    },
    {
      "cell_type": "markdown",
      "source": [
        "Perform binning to Smooth the data with mean and median on the Price attribute"
      ],
      "metadata": {
        "id": "ip-90hEsQl6W"
      }
    },
    {
      "cell_type": "code",
      "source": [
        "# Create a new DataFrame for binning\n",
        "bin_df = df.copy()\n",
        "\n",
        "# Create a new column for binning based on the Price attribute\n",
        "bin_df['Price_bin'] = pd.cut(bin_df['Price'], bins=[0, 10, 20, 30, 40, 50, np.inf], labels=['0-10', '10-20', '20-30', '30-40', '40-50', '50+'])\n",
        "\n",
        "# Compute the mean of Price for each bin\n",
        "bin_mean = bin_df.groupby('Price_bin')['Price'].mean()\n",
        "\n",
        "# Compute the median of Price for each bin\n",
        "bin_median = bin_df.groupby('Price_bin')['Price'].median()\n",
        "\n",
        "# Print the results\n",
        "print('Mean of Price for each bin:\\n', bin_mean)\n",
        "print('\\nMedian of Price for each bin:\\n', bin_median)"
      ],
      "metadata": {
        "colab": {
          "base_uri": "https://localhost:8080/"
        },
        "id": "9pNLh94aQ3kQ",
        "outputId": "5120b0ab-a5d8-46d7-e590-90fe03ad747e"
      },
      "execution_count": null,
      "outputs": [
        {
          "output_type": "stream",
          "name": "stdout",
          "text": [
            "Mean of Price for each bin:\n",
            " Price_bin\n",
            "0-10       2.806502\n",
            "10-20     13.407738\n",
            "20-30     24.311660\n",
            "30-40     36.104194\n",
            "40-50     47.543192\n",
            "50+      632.391083\n",
            "Name: Price, dtype: float64\n",
            "\n",
            "Median of Price for each bin:\n",
            " Price_bin\n",
            "0-10       2.10\n",
            "10-20     12.75\n",
            "20-30     25.49\n",
            "30-40     34.95\n",
            "40-50     49.95\n",
            "50+      176.74\n",
            "Name: Price, dtype: float64\n"
          ]
        }
      ]
    },
    {
      "cell_type": "markdown",
      "source": [
        "Transform all categorical attributes in the dataset using Integer Encoding."
      ],
      "metadata": {
        "id": "DPdvD4sOW9nh"
      }
    },
    {
      "cell_type": "code",
      "source": [
        "'''\n",
        "This code will iterate over all columns in the DataFrame and check if the column is categorical (i.e., of dtype 'object'). If the column is categorical, \n",
        "it will fit and transform the column using the LabelEncoder. The astype(str) method is used to ensure that all values in the column are strings, which is required by the \n",
        "LabelEncoder. The transformed DataFrame will have all categorical attributes converted to numerical values using integer encoding.\n",
        "'''\n",
        "# Make a copy of the dataframe to avoid modifying the original\n",
        "df_copy = df.copy()\n",
        "\n",
        "# Create an instance of LabelEncoder\n",
        "le = LabelEncoder()\n",
        "\n",
        "# Iterate over all columns\n",
        "for col in df_copy.columns:\n",
        "    # Check if the column is categorical\n",
        "    if df_copy[col].dtype == 'object':\n",
        "        # Fit and transform the column using LabelEncoder\n",
        "        df_copy[col] = le.fit_transform(df_copy[col].astype(str))\n",
        "\n",
        "print(df_copy.head(10))"
      ],
      "metadata": {
        "colab": {
          "base_uri": "https://localhost:8080/"
        },
        "id": "SwU8DVxlW9At",
        "outputId": "dc05b2e0-9f36-496f-bf23-7f9e316222c1"
      },
      "execution_count": null,
      "outputs": [
        {
          "output_type": "stream",
          "name": "stdout",
          "text": [
            "   Invoice  StockCode  Description  Quantity         InvoiceDate  Price  \\\n",
            "0        0       3892           55        12 2009-12-01 07:45:00   6.95   \n",
            "1        0       3052         2920        12 2009-12-01 07:45:00   6.75   \n",
            "2        0       3054           27        12 2009-12-01 07:45:00   6.75   \n",
            "3        0       1393         3236        48 2009-12-01 07:45:00   2.10   \n",
            "4        0        708         4067        24 2009-12-01 07:45:00   1.25   \n",
            "5        0       1416         2940        24 2009-12-01 07:45:00   1.65   \n",
            "6        0       1277         3593        24 2009-12-01 07:45:00   1.25   \n",
            "7        0        971         1485        10 2009-12-01 07:45:00   5.95   \n",
            "8        1       1689          846        12 2009-12-01 07:46:00   2.55   \n",
            "9        1       1688         1224        12 2009-12-01 07:46:00   3.75   \n",
            "\n",
            "   Customer ID  Country  Quantity_normalized  \n",
            "0      13085.0       37             0.334307  \n",
            "1      13085.0       37             0.334307  \n",
            "2      13085.0       37             0.334307  \n",
            "3      13085.0       37             0.335559  \n",
            "4      13085.0       37             0.334725  \n",
            "5      13085.0       37             0.334725  \n",
            "6      13085.0       37             0.334725  \n",
            "7      13085.0       37             0.334238  \n",
            "8      13085.0       37             0.334307  \n",
            "9      13085.0       37             0.334307  \n"
          ]
        }
      ]
    },
    {
      "cell_type": "markdown",
      "source": [
        "## 3. Data reduction"
      ],
      "metadata": {
        "id": "C_5QZ2-kRNxh"
      }
    },
    {
      "cell_type": "code",
      "source": [
        "# Create a new DataFrame for binning\n",
        "new_df = df.copy()\n",
        "\n",
        "# Convert InvoiceDate to datetime format and set as index\n",
        "new_df['InvoiceDate'] = pd.to_datetime(new_df['InvoiceDate'])\n",
        "new_df.set_index('InvoiceDate', inplace=True)\n",
        "\n",
        "# Create a new dataframe with monthly prices\n",
        "monthly_prices = new_df.resample('M')['Price'].sum().reset_index()\n",
        "\n",
        "# Create a new dataframe with annual prices\n",
        "annual_prices = new_df.resample('Y')['Price'].sum().reset_index()\n",
        "\n",
        "# Print the monthly and annual price dataframes\n",
        "print('Monthly prices:\\n', monthly_prices)\n",
        "print('\\nAnnual prices:\\n', annual_prices)"
      ],
      "metadata": {
        "colab": {
          "base_uri": "https://localhost:8080/"
        },
        "id": "7bfmONcATmUq",
        "outputId": "b6713340-0f79-45ca-91d6-d09998dba0ef"
      },
      "execution_count": null,
      "outputs": [
        {
          "output_type": "stream",
          "name": "stdout",
          "text": [
            "Monthly prices:\n",
            "    InvoiceDate       Price\n",
            "0   2009-12-31  198307.760\n",
            "1   2010-01-31  165671.362\n",
            "2   2010-02-28  116774.536\n",
            "3   2010-03-31  268304.241\n",
            "4   2010-04-30  120708.372\n",
            "5   2010-05-31  142885.530\n",
            "6   2010-06-30  234869.690\n",
            "7   2010-07-31  100650.900\n",
            "8   2010-08-31  157778.090\n",
            "9   2010-09-30  223763.221\n",
            "10  2010-10-31  265973.340\n",
            "11  2010-11-30  301913.862\n",
            "12  2010-12-31  166198.750\n",
            "\n",
            "Annual prices:\n",
            "   InvoiceDate        Price\n",
            "0  2009-12-31   198307.760\n",
            "1  2010-12-31  2265491.894\n"
          ]
        }
      ]
    },
    {
      "cell_type": "markdown",
      "source": [
        "Populate data for the missing values of the attribute= “Price” by averaging all the values of the “Price” attribute that fall under the same “Country” attribute value."
      ],
      "metadata": {
        "id": "DCEp_nmXU-Vl"
      }
    },
    {
      "cell_type": "code",
      "source": [
        "# Make a copy of the dataframe to avoid modifying the original\n",
        "df_copy = df.copy()\n",
        "\n",
        "# Compute the mean price for each country and store it in a dictionary\n",
        "country_price_dict = df_copy.groupby('Country')['Price'].mean().to_dict()\n",
        "\n",
        "# Iterate over the rows of the copy dataframe and impute missing prices\n",
        "for index, row in df_copy.iterrows():\n",
        "    if pd.isna(row['Price']):\n",
        "        country = row['Country']\n",
        "        imputed_price = country_price_dict[country]\n",
        "        df_copy.at[index, 'Price'] = imputed_price\n",
        "\n",
        "# Print the first five rows of the imputed dataframe to verify the imputation\n",
        "print(df_copy.head())"
      ],
      "metadata": {
        "colab": {
          "base_uri": "https://localhost:8080/"
        },
        "id": "nkGun3ZyU58S",
        "outputId": "297e0d0c-7ad8-44f7-cce2-d4f1974aab20"
      },
      "execution_count": null,
      "outputs": [
        {
          "output_type": "stream",
          "name": "stdout",
          "text": [
            "  Invoice StockCode                          Description  Quantity  \\\n",
            "0  489434     85048  15CM CHRISTMAS GLASS BALL 20 LIGHTS        12   \n",
            "1  489434    79323P                   PINK CHERRY LIGHTS        12   \n",
            "2  489434    79323W                  WHITE CHERRY LIGHTS        12   \n",
            "3  489434     22041         RECORD FRAME 7\" SINGLE SIZE         48   \n",
            "4  489434     21232       STRAWBERRY CERAMIC TRINKET BOX        24   \n",
            "\n",
            "          InvoiceDate  Price  Customer ID         Country  Quantity_normalized  \n",
            "0 2009-12-01 07:45:00   6.95      13085.0  United Kingdom             0.334307  \n",
            "1 2009-12-01 07:45:00   6.75      13085.0  United Kingdom             0.334307  \n",
            "2 2009-12-01 07:45:00   6.75      13085.0  United Kingdom             0.334307  \n",
            "3 2009-12-01 07:45:00   2.10      13085.0  United Kingdom             0.335559  \n",
            "4 2009-12-01 07:45:00   1.25      13085.0  United Kingdom             0.334725  \n"
          ]
        }
      ]
    },
    {
      "cell_type": "markdown",
      "source": [
        "Binarize the attribute “Quantity”. Set the threshold above 2009 and print it without truncation."
      ],
      "metadata": {
        "id": "uCToynEtVoBv"
      }
    },
    {
      "cell_type": "code",
      "source": [
        "# Make a copy of the dataframe to avoid modifying the original\n",
        "df_copy = df.copy()\n",
        "\n",
        "# Binarize the Quantity attribute with threshold above 2009\n",
        "df_copy['Quantity_binary'] = np.where(df_copy['Quantity'] > 2009, 1, 0)\n",
        "\n",
        "# Set option to display the entire DataFrame without truncation\n",
        "pd.set_option('display.max_columns', None)\n",
        "pd.set_option('display.max_rows', None)\n",
        "\n",
        "# Print the DataFrame with the Quantity_binary attribute\n",
        "print(df_copy[['Quantity', 'Quantity_binary']].head(10))"
      ],
      "metadata": {
        "colab": {
          "base_uri": "https://localhost:8080/"
        },
        "id": "FvWUI40GVoq3",
        "outputId": "02d86cf1-7a88-4e82-a7c9-d6cba959667e"
      },
      "execution_count": null,
      "outputs": [
        {
          "output_type": "stream",
          "name": "stdout",
          "text": [
            "   Quantity  Quantity_binary\n",
            "0        12                0\n",
            "1        12                0\n",
            "2        12                0\n",
            "3        48                0\n",
            "4        24                0\n",
            "5        24                0\n",
            "6        24                0\n",
            "7        10                0\n",
            "8        12                0\n",
            "9        12                0\n"
          ]
        }
      ]
    }
  ]
}